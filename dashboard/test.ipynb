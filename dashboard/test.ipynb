{
 "cells": [
  {
   "cell_type": "code",
   "execution_count": 11,
   "metadata": {},
   "outputs": [
    {
     "name": "stdout",
     "output_type": "stream",
     "text": [
      "인터페이스: 로컬 영역 연결\n",
      "네트워크 송신량: 620.1665363311768 MB\n",
      "네트워크 수신량: 2330.361473083496 MB\n",
      "인터페이스: 이더넷 2\n",
      "네트워크 송신량: 0.0 MB\n",
      "네트워크 수신량: 0.0 MB\n",
      "인터페이스: 로컬 영역 연결* 1\n",
      "네트워크 송신량: 0.0 MB\n",
      "네트워크 수신량: 0.0 MB\n",
      "인터페이스: 로컬 영역 연결* 2\n",
      "네트워크 송신량: 0.0 MB\n",
      "네트워크 수신량: 0.0 MB\n",
      "인터페이스: 이더넷\n",
      "네트워크 송신량: 45.67741107940674 MB\n",
      "네트워크 수신량: 366.9982557296753 MB\n",
      "인터페이스: Wi-Fi\n",
      "네트워크 송신량: 48732.39458942413 MB\n",
      "네트워크 수신량: 31087.246794700623 MB\n",
      "인터페이스: Bluetooth 네트워크 연결\n",
      "네트워크 송신량: 0.0 MB\n",
      "네트워크 수신량: 0.0 MB\n",
      "인터페이스: Loopback Pseudo-Interface 1\n",
      "네트워크 송신량: 0.0 MB\n",
      "네트워크 수신량: 0.0 MB\n"
     ]
    }
   ],
   "source": [
    "import psutil\n",
    "\n",
    "net_io = psutil.net_io_counters(pernic=True)\n",
    "\n",
    "for interface, data in net_io.items():\n",
    "    bytes_sent = data.bytes_sent / (1024 * 1024)\n",
    "    bytes_recv = data.bytes_recv / (1024 * 1024)\n",
    "    print(\"인터페이스:\", interface)\n",
    "    print(\"네트워크 송신량:\", bytes_sent, \"MB\")\n",
    "    print(\"네트워크 수신량:\", bytes_recv, \"MB\")\n"
   ]
  },
  {
   "cell_type": "code",
   "execution_count": 18,
   "metadata": {},
   "outputs": [
    {
     "name": "stdout",
     "output_type": "stream",
     "text": [
      "[2, 0.0, 0]\n",
      "[3, 13.15, 0]\n",
      "[4, 46.25, 583]\n",
      "[5, 43.85, 584]\n",
      "[6, 31.7, 583]\n",
      "[7, 46.8, 583]\n",
      "[8, 53.0, 0]\n",
      "[9, 38.95, 583]\n",
      "[10, 45.95, 0]\n"
     ]
    }
   ],
   "source": [
    "import pandas as pd\n",
    "from io import StringIO\n",
    "\n",
    "# Use StringIO to read the string formatted CSV data\n",
    "df = pd.read_csv('target.csv',header=0)\n",
    "\n",
    "# Extract necessary columns for the bubble chart\n",
    "bubble_chart_data = df[['id', 'server_round', 'resource', 'train_time']]\n",
    "\n",
    "# Convert DataFrame to list of dicts which can be fed into the bubble chart\n",
    "bubble_chart_data = bubble_chart_data.to_dict('records')\n",
    "\n",
    "target = []\n",
    "for row in bubble_chart_data:\n",
    "    if row['id'] == '250.0kW':\n",
    "        target = [row['server_round'], row['resource'], row['train_time']]\n",
    "\n",
    "        # 리스트 내부의 요소들을 문자열로 변환하고 콤마로 연결하여 출력\n",
    "        # formatted_data = ', '.join(map(str, target))\n",
    "        print(target)"
   ]
  },
  {
   "cell_type": "code",
   "execution_count": null,
   "metadata": {},
   "outputs": [],
   "source": []
  }
 ],
 "metadata": {
  "kernelspec": {
   "display_name": "base",
   "language": "python",
   "name": "python3"
  },
  "language_info": {
   "codemirror_mode": {
    "name": "ipython",
    "version": 3
   },
   "file_extension": ".py",
   "mimetype": "text/x-python",
   "name": "python",
   "nbconvert_exporter": "python",
   "pygments_lexer": "ipython3",
   "version": "3.9.13"
  },
  "orig_nbformat": 4
 },
 "nbformat": 4,
 "nbformat_minor": 2
}
